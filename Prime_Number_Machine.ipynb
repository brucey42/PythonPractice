{
  "nbformat": 4,
  "nbformat_minor": 0,
  "metadata": {
    "colab": {
      "name": "Prime Number Machine.ipynb",
      "provenance": [],
      "authorship_tag": "ABX9TyM7JrulLBkF6bQXDw3CvqDE",
      "include_colab_link": true
    },
    "kernelspec": {
      "name": "python3",
      "display_name": "Python 3"
    },
    "language_info": {
      "name": "python"
    }
  },
  "cells": [
    {
      "cell_type": "markdown",
      "metadata": {
        "id": "view-in-github",
        "colab_type": "text"
      },
      "source": [
        "<a href=\"https://colab.research.google.com/github/brucey42/PythonPractice/blob/main/Prime_Number_Machine.ipynb\" target=\"_parent\"><img src=\"https://colab.research.google.com/assets/colab-badge.svg\" alt=\"Open In Colab\"/></a>"
      ]
    },
    {
      "cell_type": "code",
      "metadata": {
        "colab": {
          "base_uri": "https://localhost:8080/"
        },
        "id": "7msaD0i8CNl1",
        "outputId": "217ca3b2-d0b2-4385-dea5-d75cc73aa811"
      },
      "source": [
        "def is_prime(x):\n",
        "    if x>1:\n",
        "        for n in range (2, x-1):\n",
        "            if x%n==0:\n",
        "                return False\n",
        "        else:\n",
        "            return True\n",
        "    else:\n",
        "        return False\n",
        "                                        \n",
        "print(is_prime(15))\n",
        "print(is_prime(2))\n",
        "print(is_prime(3))\n",
        "print(is_prime(25))\n",
        "print(is_prime(13))\n",
        "print(is_prime(17))"
      ],
      "execution_count": 1,
      "outputs": [
        {
          "output_type": "stream",
          "name": "stdout",
          "text": [
            "False\n",
            "True\n",
            "True\n",
            "False\n",
            "True\n",
            "True\n"
          ]
        }
      ]
    }
  ]
}