{
  "nbformat": 4,
  "nbformat_minor": 0,
  "metadata": {
    "colab": {
      "name": "Basic Insertions, Definitions and Numpy.ipynb",
      "provenance": [],
      "authorship_tag": "ABX9TyOJ1lerdrFnQ0lrzlaro9Kk",
      "include_colab_link": true
    },
    "kernelspec": {
      "name": "python3",
      "display_name": "Python 3"
    },
    "language_info": {
      "name": "python"
    }
  },
  "cells": [
    {
      "cell_type": "markdown",
      "metadata": {
        "id": "view-in-github",
        "colab_type": "text"
      },
      "source": [
        "<a href=\"https://colab.research.google.com/github/brucey42/PythonPractice/blob/main/Basic_Insertions%2C_Definitions_and_Numpy.ipynb\" target=\"_parent\"><img src=\"https://colab.research.google.com/assets/colab-badge.svg\" alt=\"Open In Colab\"/></a>"
      ]
    },
    {
      "cell_type": "code",
      "metadata": {
        "colab": {
          "base_uri": "https://localhost:8080/"
        },
        "id": "SkbNKoHa2nrK",
        "outputId": "d39f56b4-cba2-4c8e-c71a-b04569c851aa"
      },
      "source": [
        "import numpy\n",
        "\n",
        "class Student:\n",
        "    def __init__(self, name, age, class_, result1, result2, result3):\n",
        "        self.name=name\n",
        "        self.age=age\n",
        "        self.class_=class_\n",
        "        self.result1=result1\n",
        "        self.result2=result2\n",
        "        self.result3=result3\n",
        "\n",
        "    def avgscore(self, test1, test2, test3):\n",
        "        a=(test1, test2, test3)\n",
        "        return numpy.mean(a)\n",
        "\n",
        "firstname=str(input(\"Insert first name: \"))\n",
        "lastname=str(input(\"Insert last name: \"))\n",
        "sname=f\"{lastname}, {firstname}\"\n",
        "age=int(input(\"Insert age: \"))\n",
        "class_=str(input(\"Insert class: \"))\n",
        "test1=int(input(\"Insert first test score: \"))\n",
        "test2=int(input(\"Inster second test score: \"))\n",
        "test3=int(input(\"Insert third test score: \"))\n",
        "\n",
        "st1=Student(sname, age, class_, test1, test2, test3)\n",
        "\n",
        "print(f\"\\n{st1.name}, {st1.age}    {st1.class_}\\nResults:\\n{st1.result1}    {st1.result2}    {st1.result3}\")\n",
        "print(f\"Average:  {st1.avgscore(test1, test2, test3)}\")"
      ],
      "execution_count": 2,
      "outputs": [
        {
          "output_type": "stream",
          "name": "stdout",
          "text": [
            "Insert first name: Areal\n",
            "Insert last name: Person\n",
            "Insert age: 33\n",
            "Insert class: CLA55\n",
            "Insert first test score: 44\n",
            "Inster second test score: 66\n",
            "Insert third test score: 55\n",
            "\n",
            "Person, Areal, 33    CLA55\n",
            "Results:\n",
            "44    66    55\n",
            "Average:  55.0\n"
          ]
        }
      ]
    }
  ]
}